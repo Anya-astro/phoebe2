{
 "cells": [
  {
   "cell_type": "markdown",
   "metadata": {},
   "source": [
    "[IPython Notebook](legacy_spots.ipynb) |  [Python Script](legacy_spots.py)"
   ]
  },
  {
   "cell_type": "markdown",
   "metadata": {},
   "source": [
    "Comparing Spots in PHOEBE 2.0 vs PHOEBE Legacy\n",
    "============================\n",
    "\n",
    "Setup\n",
    "-----------------------------"
   ]
  },
  {
   "cell_type": "markdown",
   "metadata": {
    "collapsed": true
   },
   "source": [
    "As always, let's do imports and initialize a logger and a new bundle.  See [Building a System](../tutorials/building_a_system.html) for more details."
   ]
  },
  {
   "cell_type": "code",
   "execution_count": 1,
   "metadata": {
    "collapsed": true
   },
   "outputs": [],
   "source": [
    "%matplotlib inline"
   ]
  },
  {
   "cell_type": "code",
   "execution_count": 2,
   "metadata": {
    "collapsed": false
   },
   "outputs": [
    {
     "name": "stderr",
     "output_type": "stream",
     "text": [
      "/usr/local/lib/python2.7/dist-packages/IPython/kernel/__init__.py:13: ShimWarning: The `IPython.kernel` package has been deprecated. You should import from ipykernel or jupyter_client instead.\n",
      "  \"You should import from ipykernel or jupyter_client instead.\", ShimWarning)\n",
      "WARNING: Constant u'Gravitational constant' is already has a definition in the u'si' system [astropy.constants.constant]\n",
      "WARNING:astropy:Constant u'Gravitational constant' is already has a definition in the u'si' system\n",
      "WARNING: Constant u'Solar mass' is already has a definition in the u'si' system [astropy.constants.constant]\n",
      "WARNING:astropy:Constant u'Solar mass' is already has a definition in the u'si' system\n",
      "WARNING: Constant u'Solar radius' is already has a definition in the u'si' system [astropy.constants.constant]\n",
      "WARNING:astropy:Constant u'Solar radius' is already has a definition in the u'si' system\n",
      "WARNING: Constant u'Solar luminosity' is already has a definition in the u'si' system [astropy.constants.constant]\n",
      "WARNING:astropy:Constant u'Solar luminosity' is already has a definition in the u'si' system\n",
      "/usr/local/lib/python2.7/dist-packages/astropy/units/quantity.py:732: FutureWarning: comparison to `None` will result in an elementwise object comparison in the future.\n",
      "  return super(Quantity, self).__eq__(other)\n"
     ]
    }
   ],
   "source": [
    "import phoebe\n",
    "from phoebe import u # units\n",
    "import numpy as np\n",
    "import matplotlib.pyplot as plt\n",
    "\n",
    "logger = phoebe.logger(clevel='INFO')\n",
    "\n",
    "b = phoebe.Bundle.default_binary()"
   ]
  },
  {
   "cell_type": "markdown",
   "metadata": {
    "collapsed": true
   },
   "source": [
    "Adding Spots and Compute Options\n",
    "---------------------"
   ]
  },
  {
   "cell_type": "code",
   "execution_count": 3,
   "metadata": {
    "collapsed": false
   },
   "outputs": [
    {
     "data": {
      "text/plain": [
       "<ParameterSet: 4 parameters | qualifiers: colat, colon, radius, relteff>"
      ]
     },
     "execution_count": 3,
     "metadata": {},
     "output_type": "execute_result"
    }
   ],
   "source": [
    "b.add_spot(component='primary', relteff=0.8, radius=20, colat=45, colon=90, feature='spot01')"
   ]
  },
  {
   "cell_type": "code",
   "execution_count": 4,
   "metadata": {
    "collapsed": false
   },
   "outputs": [
    {
     "data": {
      "text/plain": [
       "<ParameterSet: 15 parameters | methods: LC, LC_dep>"
      ]
     },
     "execution_count": 4,
     "metadata": {},
     "output_type": "execute_result"
    }
   ],
   "source": [
    "b.add_dataset('LC', time=np.linspace(0, 3, 101))"
   ]
  },
  {
   "cell_type": "code",
   "execution_count": 5,
   "metadata": {
    "collapsed": false
   },
   "outputs": [
    {
     "data": {
      "text/plain": [
       "<ParameterSet: 28 parameters | datasets: _default, lc01>"
      ]
     },
     "execution_count": 5,
     "metadata": {},
     "output_type": "execute_result"
    }
   ],
   "source": [
    "b.add_compute('phoebe', compute='phoebe2')"
   ]
  },
  {
   "cell_type": "code",
   "execution_count": 6,
   "metadata": {
    "collapsed": false
   },
   "outputs": [
    {
     "data": {
      "text/plain": [
       "<ParameterSet: 14 parameters | datasets: _default, lc01>"
      ]
     },
     "execution_count": 6,
     "metadata": {},
     "output_type": "execute_result"
    }
   ],
   "source": [
    "b.add_compute('legacy', compute='phoebe1')"
   ]
  },
  {
   "cell_type": "code",
   "execution_count": 9,
   "metadata": {
    "collapsed": false
   },
   "outputs": [],
   "source": [
    "b.set_value_all('atm@phoebe2', 'extern_planckint')\n",
    "b.set_value_all('atm@phoebe1', 'blackbody')"
   ]
  },
  {
   "cell_type": "code",
   "execution_count": 10,
   "metadata": {
    "collapsed": true
   },
   "outputs": [],
   "source": [
    "b.set_value_all('ld_func', 'logarithmic')\n",
    "b.set_value_all('ld_coeffs', [0.0, 0.0])"
   ]
  },
  {
   "cell_type": "code",
   "execution_count": 11,
   "metadata": {
    "collapsed": false
   },
   "outputs": [
    {
     "data": {
      "text/plain": [
       "<ParameterSet: 2 parameters | qualifiers: flux, time>"
      ]
     },
     "execution_count": 11,
     "metadata": {},
     "output_type": "execute_result"
    }
   ],
   "source": [
    "b.run_compute('phoebe2', model='phoebe2model')"
   ]
  },
  {
   "cell_type": "code",
   "execution_count": 12,
   "metadata": {
    "collapsed": false
   },
   "outputs": [
    {
     "name": "stderr",
     "output_type": "stream",
     "text": [
      "WARNING:IO:rpole has no phoebe 1 corollary\n",
      "WARNING:IO:freq has no phoebe 1 corollary\n",
      "WARNING:IO:gravblaw has no phoebe 1 corollary\n",
      "WARNING:IO:alb_lost_bol has no phoebe 1 corollary\n",
      "WARNING:IO:ld_func_bol has no phoebe 1 corollary\n",
      "WARNING:IO:mass has no phoebe 1 corollary\n",
      "WARNING:IO:rpole has no phoebe 1 corollary\n",
      "WARNING:IO:freq has no phoebe 1 corollary\n",
      "WARNING:IO:gravblaw has no phoebe 1 corollary\n",
      "WARNING:IO:alb_lost_bol has no phoebe 1 corollary\n",
      "WARNING:IO:ld_func_bol has no phoebe 1 corollary\n",
      "WARNING:IO:mass has no phoebe 1 corollary\n",
      "WARNING:IO:pbscale has no phoebe 1 corollary\n",
      "WARNING:IO:alb has no phoebe 1 corollary\n",
      "WARNING:IO:pbscale has no phoebe 1 corollary\n",
      "WARNING:IO:pbscale has no phoebe 1 corollary\n",
      "WARNING:IO:alb has no phoebe 1 corollary\n",
      "WARNING:IO:alb has no phoebe 1 corollary\n",
      "WARNING:IO:freq has no phoebe 1 corollary\n",
      "WARNING:IO:deccdt has no phoebe 1 corollary\n",
      "WARNING:IO:t0_perpass has no phoebe 1 corollary\n",
      "WARNING:IO:mean_anom has no phoebe 1 corollary\n",
      "WARNING:IO:long_an has no phoebe 1 corollary\n",
      "WARNING:IO:asini has no phoebe 1 corollary\n",
      "WARNING:IO:ecosw has no phoebe 1 corollary\n",
      "WARNING:IO:esinw has no phoebe 1 corollary\n",
      "WARNING:IO:store_mesh has no phoebe 1 corollary\n",
      "WARNING:IO:cindex has no phoebe 1 corollary\n",
      "WARNING:IO:heating has no phoebe 1 corollary\n",
      "WARNING:IO:t0 has no phoebe 1 corollary\n",
      "WARNING:IO:ra has no phoebe 1 corollary\n",
      "WARNING:IO:dec has no phoebe 1 corollary\n",
      "WARNING:IO:epoch has no phoebe 1 corollary\n",
      "WARNING:IO:distance has no phoebe 1 corollary\n",
      "WARNING:IO:hierarchy has no phoebe 1 corollary\n"
     ]
    },
    {
     "data": {
      "text/plain": [
       "<ParameterSet: 2 parameters | qualifiers: flux, time>"
      ]
     },
     "execution_count": 12,
     "metadata": {},
     "output_type": "execute_result"
    }
   ],
   "source": [
    "b.run_compute('phoebe1', model='phoebe1model')"
   ]
  },
  {
   "cell_type": "markdown",
   "metadata": {},
   "source": [
    "Plotting\n",
    "------------"
   ]
  },
  {
   "cell_type": "code",
   "execution_count": 15,
   "metadata": {
    "collapsed": false
   },
   "outputs": [
    {
     "data": {
      "image/png": "[encoded data removed]",
      "text/plain": [
       "<matplotlib.figure.Figure at 0x7fac22361910>"
      ]
     },
     "metadata": {},
     "output_type": "display_data"
    }
   ],
   "source": [
    "axs, artists = b.plot()\n",
    "legend = plt.legend()\n",
    "ylims = plt.ylim(1.95, 2.05)"
   ]
  },
  {
   "cell_type": "code",
   "execution_count": null,
   "metadata": {
    "collapsed": true
   },
   "outputs": [],
   "source": []
  }
 ],
 "metadata": {
  "kernelspec": {
   "display_name": "Python 2",
   "language": "python",
   "name": "python2"
  },
  "language_info": {
   "codemirror_mode": {
    "name": "ipython",
    "version": 2
   },
   "file_extension": ".py",
   "mimetype": "text/x-python",
   "name": "python",
   "nbconvert_exporter": "python",
   "pygments_lexer": "ipython2",
   "version": "2.7.12"
  }
 },
 "nbformat": 4,
 "nbformat_minor": 0
}
