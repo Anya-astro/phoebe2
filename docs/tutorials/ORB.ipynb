{
 "cells": [
  {
   "cell_type": "markdown",
   "metadata": {},
   "source": [
    "[IPython Notebook](ORB.ipynb) |  [Python Script](ORB.py)"
   ]
  },
  {
   "cell_type": "markdown",
   "metadata": {},
   "source": [
    "ORB Datasets and Options\n",
    "============================\n",
    "\n",
    "Setup\n",
    "-----------------------------"
   ]
  },
  {
   "cell_type": "markdown",
   "metadata": {
    "collapsed": true
   },
   "source": [
    "As always, let's do imports and initialize a logger and a new Bundle.  See [Building a System](building_a_system.html) for more details."
   ]
  },
  {
   "cell_type": "code",
   "execution_count": 1,
   "metadata": {
    "collapsed": true
   },
   "outputs": [],
   "source": [
    "%matplotlib inline"
   ]
  },
  {
   "cell_type": "code",
   "execution_count": 2,
   "metadata": {
    "collapsed": false
   },
   "outputs": [
    {
     "name": "stderr",
     "output_type": "stream",
     "text": [
      "/usr/local/lib/python2.7/dist-packages/IPython/kernel/__init__.py:13: ShimWarning: The `IPython.kernel` package has been deprecated. You should import from ipykernel or jupyter_client instead.\n",
      "  \"You should import from ipykernel or jupyter_client instead.\", ShimWarning)\n",
      "WARNING: Constant u'Gravitational constant' is already has a definition in the u'si' system [astropy.constants.constant]\n",
      "WARNING:astropy:Constant u'Gravitational constant' is already has a definition in the u'si' system\n",
      "WARNING: Constant u'Solar mass' is already has a definition in the u'si' system [astropy.constants.constant]\n",
      "WARNING:astropy:Constant u'Solar mass' is already has a definition in the u'si' system\n",
      "WARNING: Constant u'Solar radius' is already has a definition in the u'si' system [astropy.constants.constant]\n",
      "WARNING:astropy:Constant u'Solar radius' is already has a definition in the u'si' system\n",
      "WARNING: Constant u'Solar luminosity' is already has a definition in the u'si' system [astropy.constants.constant]\n",
      "WARNING:astropy:Constant u'Solar luminosity' is already has a definition in the u'si' system\n"
     ]
    },
    {
     "name": "stdout",
     "output_type": "stream",
     "text": [
      "WARNING: developer mode enabled, to disable 'rm ~/.phoebe_devel_enabled' and restart phoebe or phoebe._devel_enabled=False to temporarily disable\n"
     ]
    },
    {
     "name": "stderr",
     "output_type": "stream",
     "text": [
      "/usr/local/lib/python2.7/dist-packages/astropy/units/quantity.py:732: FutureWarning: comparison to `None` will result in an elementwise object comparison in the future.\n",
      "  return super(Quantity, self).__eq__(other)\n"
     ]
    }
   ],
   "source": [
    "import phoebe\n",
    "from phoebe import u # units\n",
    "import numpy as np\n",
    "import matplotlib.pyplot as plt\n",
    "\n",
    "logger = phoebe.logger(clevel='INFO')\n",
    "\n",
    "b = phoebe.default_binary()"
   ]
  },
  {
   "cell_type": "markdown",
   "metadata": {
    "collapsed": true
   },
   "source": [
    "Dataset Parameters\n",
    "--------------------------\n",
    "\n",
    "Let's create the ParameterSet which would be added to the Bundle when calling add_dataset. Later we'll call add_dataset, which will create and attach this ParameterSet for us."
   ]
  },
  {
   "cell_type": "code",
   "execution_count": 3,
   "metadata": {
    "collapsed": false
   },
   "outputs": [
    {
     "name": "stdout",
     "output_type": "stream",
     "text": [
      "ParameterSet: 1 parameters\n",
      "                  times@_default: [] d\n"
     ]
    }
   ],
   "source": [
    "ps, constraints = phoebe.dataset.orb()\n",
    "print ps"
   ]
  },
  {
   "cell_type": "markdown",
   "metadata": {},
   "source": [
    "### times"
   ]
  },
  {
   "cell_type": "code",
   "execution_count": 4,
   "metadata": {
    "collapsed": false
   },
   "outputs": [
    {
     "name": "stdout",
     "output_type": "stream",
     "text": [
      "ParameterSet: 0 parameters\n",
      "NO PARAMETERS\n"
     ]
    }
   ],
   "source": [
    "print ps['times']"
   ]
  },
  {
   "cell_type": "markdown",
   "metadata": {},
   "source": [
    "### enabled"
   ]
  },
  {
   "cell_type": "code",
   "execution_count": 5,
   "metadata": {
    "collapsed": false
   },
   "outputs": [
    {
     "name": "stdout",
     "output_type": "stream",
     "text": [
      "ParameterSet: 0 parameters\n",
      "NO PARAMETERS\n"
     ]
    }
   ],
   "source": [
    "print ps['enabled']"
   ]
  },
  {
   "cell_type": "markdown",
   "metadata": {},
   "source": [
    "Compute Options\n",
    "------------------\n",
    "\n",
    "Let's look at the compute options (for the default PHOEBE 2 backend) that relate to dynamics and the ORB dataset"
   ]
  },
  {
   "cell_type": "code",
   "execution_count": 6,
   "metadata": {
    "collapsed": false
   },
   "outputs": [
    {
     "name": "stdout",
     "output_type": "stream",
     "text": [
      "ParameterSet: 23 parameters\n",
      "                enabled@_default: True\n",
      "                 dynamics_method: keplerian\n",
      "                            ltte: False\n",
      "                              gr: False\n",
      "                        stepsize: 0.01\n",
      "                      integrator: ias15\n",
      "                            refl: False\n",
      "                      store_mesh: False\n",
      "            mesh_method@_default: marching\n",
      "                  delta@_default: 0.1\n",
      "              maxpoints@_default: 100000\n",
      "      distortion_method@_default: roche\n",
      "               gridsize@_default: 40\n",
      "                     mesh_offset: True\n",
      "                  eclipse_method: native\n",
      "                    atm@_default: ck2004\n",
      "              lc_method@_default: numerical\n",
      "             fti_method@_default: None\n",
      "  fti_oversample@_default@_de...: 5\n",
      "     rv_method@_default@_default: flux-weighted\n",
      "       rv_grav@_default@_default: False\n",
      "    etv_method@_default@_default: crossing\n",
      "       etv_tol@_default@_default: 0.0001 d\n"
     ]
    }
   ],
   "source": [
    "ps_compute = phoebe.compute.phoebe()\n",
    "print ps_compute"
   ]
  },
  {
   "cell_type": "markdown",
   "metadata": {},
   "source": [
    "### dynamics_method"
   ]
  },
  {
   "cell_type": "code",
   "execution_count": 7,
   "metadata": {
    "collapsed": false,
    "scrolled": true
   },
   "outputs": [
    {
     "name": "stdout",
     "output_type": "stream",
     "text": [
      "Parameter: dynamics_method\n",
      "                       Qualifier: dynamics_method\n",
      "                     Description: Which method to use to determine the dynamics of components\n",
      "                           Value: keplerian\n",
      "                         Choices: keplerian, nbody, rebound, bs\n",
      "\n"
     ]
    }
   ],
   "source": [
    "print ps_compute['dynamics_method']"
   ]
  },
  {
   "cell_type": "markdown",
   "metadata": {},
   "source": [
    "The 'dynamics_method' parameter controls how stars and components are placed in the coordinate system as a function of time and has several choices:\n",
    " * keplerian (default): Use Kepler's laws to determine positions.  If the system has more than two components, then each orbit is treated independently and nested (ie there are no dynamical/tidal effects - the inner orbit is treated as a single point mass in the outer orbit).\n",
    " * nbody: Use an n-body integrator to determine positions.  Here the initial conditions (positions and velocities) are still defined by the orbit's Keplerian parameters at 't0@system'.  Closed orbits and orbital stability are not guaranteed and ejections can occur."
   ]
  },
  {
   "cell_type": "markdown",
   "metadata": {},
   "source": [
    "### ltte"
   ]
  },
  {
   "cell_type": "code",
   "execution_count": 8,
   "metadata": {
    "collapsed": false
   },
   "outputs": [
    {
     "name": "stdout",
     "output_type": "stream",
     "text": [
      "Parameter: ltte\n",
      "                       Qualifier: ltte\n",
      "                     Description: Correct for light travel time effects\n",
      "                           Value: False\n",
      "\n"
     ]
    }
   ],
   "source": [
    "print ps_compute['ltte']"
   ]
  },
  {
   "cell_type": "markdown",
   "metadata": {},
   "source": [
    "The 'ltte' parameter sets whether light travel time effects (Roemer delay) are included.  If set to False, the positions and velocities are returned as they actually are for that given object at that given time.  If set to True, they are instead returned as they were or will be when their light reaches the origin of the coordinate system.\n",
    "\n",
    "See the [Systemic Velocity Example Script](../examples/vgamma) for an example of how 'ltte' and 'vgamma' (systemic velocity) interplay."
   ]
  },
  {
   "cell_type": "markdown",
   "metadata": {},
   "source": [
    "### orbiterror\n",
    "\n",
    "The 'orbiterror' parameter is only relevant if dynamics_method=='nbody' (so will not be available unless that is the case)"
   ]
  },
  {
   "cell_type": "code",
   "execution_count": 9,
   "metadata": {
    "collapsed": false
   },
   "outputs": [
    {
     "name": "stdout",
     "output_type": "stream",
     "text": [
      "ParameterSet: 0 parameters\n",
      "NO PARAMETERS\n"
     ]
    }
   ],
   "source": [
    "print ps_compute['orbiterror']"
   ]
  },
  {
   "cell_type": "markdown",
   "metadata": {},
   "source": [
    "### stepsize\n",
    "\n",
    "The 'stepsize' parameter is also only relevenat if dynamics_method=='nbody' (so will not be available unless that is the case)"
   ]
  },
  {
   "cell_type": "code",
   "execution_count": 10,
   "metadata": {
    "collapsed": false
   },
   "outputs": [
    {
     "name": "stdout",
     "output_type": "stream",
     "text": [
      "Parameter: stepsize\n",
      "                       Qualifier: stepsize\n",
      "                     Description: stepsize for the N-body integrator\n",
      "                           Value: 0.01\n",
      "                  Constrained by: \n",
      "                      Constrains: None\n",
      "                      Related to: None\n",
      "                 Only visible if: dynamics_method:nbody\n",
      "\n"
     ]
    }
   ],
   "source": [
    "print ps_compute['stepsize']"
   ]
  },
  {
   "cell_type": "markdown",
   "metadata": {},
   "source": [
    "Synthetics\n",
    "------------------"
   ]
  },
  {
   "cell_type": "code",
   "execution_count": 11,
   "metadata": {
    "collapsed": false
   },
   "outputs": [
    {
     "data": {
      "text/plain": [
       "<ParameterSet: 2 parameters | components: primary, secondary>"
      ]
     },
     "execution_count": 11,
     "metadata": {},
     "output_type": "execute_result"
    }
   ],
   "source": [
    "b.add_dataset('orb', times=np.linspace(0,3,201))"
   ]
  },
  {
   "cell_type": "code",
   "execution_count": 12,
   "metadata": {
    "collapsed": false
   },
   "outputs": [
    {
     "data": {
      "text/plain": [
       "<ParameterSet: 17 parameters | components: primary, secondary>"
      ]
     },
     "execution_count": 12,
     "metadata": {},
     "output_type": "execute_result"
    }
   ],
   "source": [
    "b.add_compute()"
   ]
  },
  {
   "cell_type": "code",
   "execution_count": 13,
   "metadata": {
    "collapsed": false
   },
   "outputs": [
    {
     "data": {
      "text/plain": [
       "<ParameterSet: 14 parameters | components: primary, secondary>"
      ]
     },
     "execution_count": 13,
     "metadata": {},
     "output_type": "execute_result"
    }
   ],
   "source": [
    "b.run_compute()"
   ]
  },
  {
   "cell_type": "code",
   "execution_count": 14,
   "metadata": {
    "collapsed": false
   },
   "outputs": [
    {
     "data": {
      "text/plain": [
       "['times@primary@orb01@phoebe01@latest@orb@model',\n",
       " 'xs@primary@orb01@phoebe01@latest@orb@model',\n",
       " 'ys@primary@orb01@phoebe01@latest@orb@model',\n",
       " 'zs@primary@orb01@phoebe01@latest@orb@model',\n",
       " 'vxs@primary@orb01@phoebe01@latest@orb@model',\n",
       " 'vys@primary@orb01@phoebe01@latest@orb@model',\n",
       " 'vzs@primary@orb01@phoebe01@latest@orb@model',\n",
       " 'times@secondary@orb01@phoebe01@latest@orb@model',\n",
       " 'xs@secondary@orb01@phoebe01@latest@orb@model',\n",
       " 'ys@secondary@orb01@phoebe01@latest@orb@model',\n",
       " 'zs@secondary@orb01@phoebe01@latest@orb@model',\n",
       " 'vxs@secondary@orb01@phoebe01@latest@orb@model',\n",
       " 'vys@secondary@orb01@phoebe01@latest@orb@model',\n",
       " 'vzs@secondary@orb01@phoebe01@latest@orb@model']"
      ]
     },
     "execution_count": 14,
     "metadata": {},
     "output_type": "execute_result"
    }
   ],
   "source": [
    "b['orb@model'].twigs"
   ]
  },
  {
   "cell_type": "code",
   "execution_count": 15,
   "metadata": {
    "collapsed": false
   },
   "outputs": [
    {
     "name": "stdout",
     "output_type": "stream",
     "text": [
      "Parameter: times@primary@latest@model\n",
      "                       Qualifier: times\n",
      "                     Description: Synthetic times\n",
      "                           Value: [ 0.     0.015  0.03   0.045  0.06   0.075  0.09   0.105  0.12   0.135\n",
      "  0.15   0.165  0.18   0.195  0.21   0.225  0.24   0.255  0.27   0.285  0.3\n",
      "  0.315  0.33   0.345  0.36   0.375  0.39   0.405  0.42   0.435  0.45\n",
      "  0.465  0.48   0.495  0.51   0.525  0.54   0.555  0.57   0.585  0.6    0.615\n",
      "  0.63   0.645  0.66   0.675  0.69   0.705  0.72   0.735  0.75   0.765\n",
      "  0.78   0.795  0.81   0.825  0.84   0.855  0.87   0.885  0.9    0.915\n",
      "  0.93   0.945  0.96   0.975  0.99   1.005  1.02   1.035  1.05   1.065\n",
      "  1.08   1.095  1.11   1.125  1.14   1.155  1.17   1.185  1.2    1.215\n",
      "  1.23   1.245  1.26   1.275  1.29   1.305  1.32   1.335  1.35   1.365\n",
      "  1.38   1.395  1.41   1.425  1.44   1.455  1.47   1.485  1.5    1.515\n",
      "  1.53   1.545  1.56   1.575  1.59   1.605  1.62   1.635  1.65   1.665\n",
      "  1.68   1.695  1.71   1.725  1.74   1.755  1.77   1.785  1.8    1.815\n",
      "  1.83   1.845  1.86   1.875  1.89   1.905  1.92   1.935  1.95   1.965\n",
      "  1.98   1.995  2.01   2.025  2.04   2.055  2.07   2.085  2.1    2.115\n",
      "  2.13   2.145  2.16   2.175  2.19   2.205  2.22   2.235  2.25   2.265\n",
      "  2.28   2.295  2.31   2.325  2.34   2.355  2.37   2.385  2.4    2.415\n",
      "  2.43   2.445  2.46   2.475  2.49   2.505  2.52   2.535  2.55   2.565\n",
      "  2.58   2.595  2.61   2.625  2.64   2.655  2.67   2.685  2.7    2.715\n",
      "  2.73   2.745  2.76   2.775  2.79   2.805  2.82   2.835  2.85   2.865\n",
      "  2.88   2.895  2.91   2.925  2.94   2.955  2.97   2.985  3.   ] d\n",
      "                  Constrained by: \n",
      "                      Constrains: None\n",
      "                      Related to: None\n",
      "\n"
     ]
    }
   ],
   "source": [
    "print b['times@primary@orb01@orb@model']"
   ]
  },
  {
   "cell_type": "code",
   "execution_count": 16,
   "metadata": {
    "collapsed": false
   },
   "outputs": [
    {
     "name": "stdout",
     "output_type": "stream",
     "text": [
      "Parameter: xs@primary@latest@model\n",
      "                       Qualifier: xs\n",
      "                     Description: X position\n",
      "                           Value: [  2.44929360e-16  -1.25643036e-01  -2.51162078e-01  -3.76433253e-01\n",
      "  -5.01332934e-01  -6.25737860e-01  -7.49525258e-01  -8.72572966e-01\n",
      "  -9.94759549e-01  -1.11596442e+00  -1.23606798e+00  -1.35495168e+00\n",
      "  -1.47249821e+00  -1.58859156e+00  -1.70311717e+00  -1.81596200e+00\n",
      "  -1.92701470e+00  -2.03616566e+00  -2.14330718e+00  -2.24833351e+00\n",
      "  -2.35114101e+00  -2.45162821e+00  -2.54969596e+00  -2.64524746e+00\n",
      "  -2.73818842e+00  -2.82842712e+00  -2.91587451e+00  -3.00044428e+00\n",
      "  -3.08205297e+00  -3.16062005e+00  -3.23606798e+00  -3.30832230e+00\n",
      "  -3.37731170e+00  -3.44296811e+00  -3.50522672e+00  -3.56402610e+00\n",
      "  -3.61930821e+00  -3.67101850e+00  -3.71910594e+00  -3.76352308e+00\n",
      "  -3.80422607e+00  -3.84117474e+00  -3.87433264e+00  -3.90366705e+00\n",
      "  -3.92914900e+00  -3.95075336e+00  -3.96845881e+00  -3.98224786e+00\n",
      "  -3.99210691e+00  -3.99802624e+00  -4.00000000e+00  -3.99802624e+00\n",
      "  -3.99210691e+00  -3.98224786e+00  -3.96845881e+00  -3.95075336e+00\n",
      "  -3.92914900e+00  -3.90366705e+00  -3.87433264e+00  -3.84117474e+00\n",
      "  -3.80422607e+00  -3.76352308e+00  -3.71910594e+00  -3.67101850e+00\n",
      "  -3.61930821e+00  -3.56402610e+00  -3.50522672e+00  -3.44296811e+00\n",
      "  -3.37731170e+00  -3.30832230e+00  -3.23606798e+00  -3.16062005e+00\n",
      "  -3.08205297e+00  -3.00044428e+00  -2.91587451e+00  -2.82842712e+00\n",
      "  -2.73818842e+00  -2.64524746e+00  -2.54969596e+00  -2.45162821e+00\n",
      "  -2.35114101e+00  -2.24833351e+00  -2.14330718e+00  -2.03616566e+00\n",
      "  -1.92701470e+00  -1.81596200e+00  -1.70311717e+00  -1.58859156e+00\n",
      "  -1.47249821e+00  -1.35495168e+00  -1.23606798e+00  -1.11596442e+00\n",
      "  -9.94759549e-01  -8.72572966e-01  -7.49525258e-01  -6.25737860e-01\n",
      "  -5.01332934e-01  -3.76433253e-01  -2.51162078e-01  -1.25643036e-01\n",
      "  -6.43249060e-16   1.25643036e-01   2.51162078e-01   3.76433253e-01\n",
      "   5.01332934e-01   6.25737860e-01   7.49525258e-01   8.72572966e-01\n",
      "   9.94759549e-01   1.11596442e+00   1.23606798e+00   1.35495168e+00\n",
      "   1.47249821e+00   1.58859156e+00   1.70311717e+00   1.81596200e+00\n",
      "   1.92701470e+00   2.03616566e+00   2.14330718e+00   2.24833351e+00\n",
      "   2.35114101e+00   2.45162821e+00   2.54969596e+00   2.64524746e+00\n",
      "   2.73818842e+00   2.82842712e+00   2.91587451e+00   3.00044428e+00\n",
      "   3.08205297e+00   3.16062005e+00   3.23606798e+00   3.30832230e+00\n",
      "   3.37731170e+00   3.44296811e+00   3.50522672e+00   3.56402610e+00\n",
      "   3.61930821e+00   3.67101850e+00   3.71910594e+00   3.76352308e+00\n",
      "   3.80422607e+00   3.84117474e+00   3.87433264e+00   3.90366705e+00\n",
      "   3.92914900e+00   3.95075336e+00   3.96845881e+00   3.98224786e+00\n",
      "   3.99210691e+00   3.99802624e+00   4.00000000e+00   3.99802624e+00\n",
      "   3.99210691e+00   3.98224786e+00   3.96845881e+00   3.95075336e+00\n",
      "   3.92914900e+00   3.90366705e+00   3.87433264e+00   3.84117474e+00\n",
      "   3.80422607e+00   3.76352308e+00   3.71910594e+00   3.67101850e+00\n",
      "   3.61930821e+00   3.56402610e+00   3.50522672e+00   3.44296811e+00\n",
      "   3.37731170e+00   3.30832230e+00   3.23606798e+00   3.16062005e+00\n",
      "   3.08205297e+00   3.00044428e+00   2.91587451e+00   2.82842712e+00\n",
      "   2.73818842e+00   2.64524746e+00   2.54969596e+00   2.45162821e+00\n",
      "   2.35114101e+00   2.24833351e+00   2.14330718e+00   2.03616566e+00\n",
      "   1.92701470e+00   1.81596200e+00   1.70311717e+00   1.58859156e+00\n",
      "   1.47249821e+00   1.35495168e+00   1.23606798e+00   1.11596442e+00\n",
      "   9.94759549e-01   8.72572966e-01   7.49525258e-01   6.25737860e-01\n",
      "   5.01332934e-01   3.76433253e-01   2.51162078e-01   1.25643036e-01\n",
      "   4.68582146e-15] solRad\n",
      "                  Constrained by: \n",
      "                      Constrains: None\n",
      "                      Related to: None\n",
      "\n"
     ]
    }
   ],
   "source": [
    "print b['xs@primary@orb01@orb@model']"
   ]
  },
  {
   "cell_type": "code",
   "execution_count": 17,
   "metadata": {
    "collapsed": false
   },
   "outputs": [
    {
     "name": "stdout",
     "output_type": "stream",
     "text": [
      "Parameter: vxs@primary@latest@model\n",
      "                       Qualifier: vxs\n",
      "                     Description: X velocity\n",
      "                           Value: [ -8.37758041e+00  -8.37344658e+00  -8.36104917e+00  -8.34040041e+00\n",
      "  -8.31152069e+00  -8.27443849e+00  -8.22919043e+00  -8.17582115e+00\n",
      "  -8.11438332e+00  -8.04493757e+00  -7.96755244e+00  -7.88230430e+00\n",
      "  -7.78927727e+00  -7.68856317e+00  -7.58026139e+00  -7.46447880e+00\n",
      "  -7.34132968e+00  -7.21093554e+00  -7.07342509e+00  -6.92893402e+00\n",
      "  -6.77760492e+00  -6.61958715e+00  -6.45503665e+00  -6.28411580e+00\n",
      "  -6.10699329e+00  -5.92384392e+00  -5.73484842e+00  -5.54019333e+00\n",
      "  -5.34007073e+00  -5.13467813e+00  -4.92421821e+00  -4.70889869e+00\n",
      "  -4.48893206e+00  -4.26453539e+00  -4.03593014e+00  -3.80334192e+00\n",
      "  -3.56700025e+00  -3.32713839e+00  -3.08399304e+00  -2.83780416e+00\n",
      "  -2.58881472e+00  -2.33727042e+00  -2.08341953e+00  -1.82751255e+00\n",
      "  -1.56980203e+00  -1.31054231e+00  -1.04998924e+00  -7.88399962e-01\n",
      "  -5.26032626e-01  -2.63146160e-01  -1.02595770e-15   2.63146160e-01\n",
      "   5.26032626e-01   7.88399962e-01   1.04998924e+00   1.31054231e+00\n",
      "   1.56980203e+00   1.82751255e+00   2.08341953e+00   2.33727042e+00\n",
      "   2.58881472e+00   2.83780416e+00   3.08399304e+00   3.32713839e+00\n",
      "   3.56700025e+00   3.80334192e+00   4.03593014e+00   4.26453539e+00\n",
      "   4.48893206e+00   4.70889869e+00   4.92421821e+00   5.13467813e+00\n",
      "   5.34007073e+00   5.54019333e+00   5.73484842e+00   5.92384392e+00\n",
      "   6.10699329e+00   6.28411580e+00   6.45503665e+00   6.61958715e+00\n",
      "   6.77760492e+00   6.92893402e+00   7.07342509e+00   7.21093554e+00\n",
      "   7.34132968e+00   7.46447880e+00   7.58026139e+00   7.68856317e+00\n",
      "   7.78927727e+00   7.88230430e+00   7.96755244e+00   8.04493757e+00\n",
      "   8.11438332e+00   8.17582115e+00   8.22919043e+00   8.27443849e+00\n",
      "   8.31152069e+00   8.34040041e+00   8.36104917e+00   8.37344658e+00\n",
      "   8.37758041e+00   8.37344658e+00   8.36104917e+00   8.34040041e+00\n",
      "   8.31152069e+00   8.27443849e+00   8.22919043e+00   8.17582115e+00\n",
      "   8.11438332e+00   8.04493757e+00   7.96755244e+00   7.88230430e+00\n",
      "   7.78927727e+00   7.68856317e+00   7.58026139e+00   7.46447880e+00\n",
      "   7.34132968e+00   7.21093554e+00   7.07342509e+00   6.92893402e+00\n",
      "   6.77760492e+00   6.61958715e+00   6.45503665e+00   6.28411580e+00\n",
      "   6.10699329e+00   5.92384392e+00   5.73484842e+00   5.54019333e+00\n",
      "   5.34007073e+00   5.13467813e+00   4.92421821e+00   4.70889869e+00\n",
      "   4.48893206e+00   4.26453539e+00   4.03593014e+00   3.80334192e+00\n",
      "   3.56700025e+00   3.32713839e+00   3.08399304e+00   2.83780416e+00\n",
      "   2.58881472e+00   2.33727042e+00   2.08341953e+00   1.82751255e+00\n",
      "   1.56980203e+00   1.31054231e+00   1.04998924e+00   7.88399962e-01\n",
      "   5.26032626e-01   2.63146160e-01   2.05191541e-15  -2.63146160e-01\n",
      "  -5.26032626e-01  -7.88399962e-01  -1.04998924e+00  -1.31054231e+00\n",
      "  -1.56980203e+00  -1.82751255e+00  -2.08341953e+00  -2.33727042e+00\n",
      "  -2.58881472e+00  -2.83780416e+00  -3.08399304e+00  -3.32713839e+00\n",
      "  -3.56700025e+00  -3.80334192e+00  -4.03593014e+00  -4.26453539e+00\n",
      "  -4.48893206e+00  -4.70889869e+00  -4.92421821e+00  -5.13467813e+00\n",
      "  -5.34007073e+00  -5.54019333e+00  -5.73484842e+00  -5.92384392e+00\n",
      "  -6.10699329e+00  -6.28411580e+00  -6.45503665e+00  -6.61958715e+00\n",
      "  -6.77760492e+00  -6.92893402e+00  -7.07342509e+00  -7.21093554e+00\n",
      "  -7.34132968e+00  -7.46447880e+00  -7.58026139e+00  -7.68856317e+00\n",
      "  -7.78927727e+00  -7.88230430e+00  -7.96755244e+00  -8.04493757e+00\n",
      "  -8.11438332e+00  -8.17582115e+00  -8.22919043e+00  -8.27443849e+00\n",
      "  -8.31152069e+00  -8.34040041e+00  -8.36104917e+00  -8.37344658e+00\n",
      "  -8.37758041e+00] solRad / d\n",
      "                  Constrained by: \n",
      "                      Constrains: None\n",
      "                      Related to: None\n",
      "\n"
     ]
    }
   ],
   "source": [
    "print b['vxs@primary@orb01@orb@model']"
   ]
  },
  {
   "cell_type": "markdown",
   "metadata": {},
   "source": [
    "Plotting\n",
    "---------------\n",
    "\n",
    "By default, ORB datasets plot as 'ys' vx 'xs' (plane of sky).  Notice the y-scale here with inclination set to 90."
   ]
  },
  {
   "cell_type": "code",
   "execution_count": 18,
   "metadata": {
    "collapsed": false
   },
   "outputs": [
    {
     "data": {
      "image/png": "[encoded data removed]",
      "text/plain": [
       "<matplotlib.figure.Figure at 0x7ff6afba8b50>"
      ]
     },
     "metadata": {},
     "output_type": "display_data"
    }
   ],
   "source": [
    "axs, artists = b['orb@model'].plot()"
   ]
  },
  {
   "cell_type": "markdown",
   "metadata": {
    "collapsed": true
   },
   "source": [
    "As always, you have access to any of the arrays for either axes, so if you want to plot 'vxs' vs 'times'"
   ]
  },
  {
   "cell_type": "code",
   "execution_count": 19,
   "metadata": {
    "collapsed": false
   },
   "outputs": [
    {
     "data": {
      "image/png": "[encoded data removed]",
      "text/plain": [
       "<matplotlib.figure.Figure at 0x7ff69bb1e710>"
      ]
     },
     "metadata": {},
     "output_type": "display_data"
    }
   ],
   "source": [
    "axs, artists = b['orb@model'].plot(x='times', y='vxs')"
   ]
  },
  {
   "cell_type": "markdown",
   "metadata": {},
   "source": [
    "3d axes are not yet supported for orbits, but hopefully will be soon.\n",
    "\n",
    "Once they are supported, they will default to x, y, and z positions plotted on their respective axes."
   ]
  },
  {
   "cell_type": "code",
   "execution_count": 20,
   "metadata": {
    "collapsed": false
   },
   "outputs": [
    {
     "name": "stderr",
     "output_type": "stream",
     "text": [
      "/usr/local/lib/python2.7/dist-packages/matplotlib/collections.py:590: FutureWarning: elementwise comparison failed; returning scalar instead, but in the future will perform elementwise comparison\n",
      "  if self._edgecolors == str('face'):\n"
     ]
    },
    {
     "data": {
      "image/png": "[encoded data removed]",
      "text/plain": [
       "<matplotlib.figure.Figure at 0x7ff69bb0eb50>"
      ]
     },
     "metadata": {},
     "output_type": "display_data"
    }
   ],
   "source": [
    "fig = plt.figure()\n",
    "ax = fig.add_subplot(111, projection='3d')\n",
    "\n",
    "axs, artists = b['orb@model'].plot(xlim=(-4,4), ylim=(-4,4), zlim=(-4,4))"
   ]
  }
 ],
 "metadata": {
  "kernelspec": {
   "display_name": "Python 2",
   "language": "python",
   "name": "python2"
  },
  "language_info": {
   "codemirror_mode": {
    "name": "ipython",
    "version": 2
   },
   "file_extension": ".py",
   "mimetype": "text/x-python",
   "name": "python",
   "nbconvert_exporter": "python",
   "pygments_lexer": "ipython2",
   "version": "2.7.12"
  }
 },
 "nbformat": 4,
 "nbformat_minor": 0
}
