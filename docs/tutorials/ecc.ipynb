{
 "cells": [
  {
   "cell_type": "markdown",
   "metadata": {},
   "source": [
    "[IPython Notebook](ecc.ipynb) |  [Python Script](ecc.py)"
   ]
  },
  {
   "cell_type": "markdown",
   "metadata": {},
   "source": [
    "Eccentricity (Volume Conservation)\n",
    "============================\n",
    "\n",
    "Setup\n",
    "-----------------------------"
   ]
  },
  {
   "cell_type": "markdown",
   "metadata": {
    "collapsed": true
   },
   "source": [
    "As always, let's do imports and initialize a logger and a new Bundle.  See [Building a System](building_a_system.html) for more details."
   ]
  },
  {
   "cell_type": "code",
   "execution_count": 1,
   "metadata": {
    "collapsed": true
   },
   "outputs": [],
   "source": [
    "%matplotlib inline"
   ]
  },
  {
   "cell_type": "code",
   "execution_count": 2,
   "metadata": {
    "collapsed": false
   },
   "outputs": [
    {
     "name": "stderr",
     "output_type": "stream",
     "text": [
      "/usr/local/lib/python2.7/dist-packages/IPython/kernel/__init__.py:13: ShimWarning: The `IPython.kernel` package has been deprecated. You should import from ipykernel or jupyter_client instead.\n",
      "  \"You should import from ipykernel or jupyter_client instead.\", ShimWarning)\n",
      "WARNING: Constant u'Gravitational constant' is already has a definition in the u'si' system [astropy.constants.constant]\n",
      "WARNING:astropy:Constant u'Gravitational constant' is already has a definition in the u'si' system\n",
      "WARNING: Constant u'Solar mass' is already has a definition in the u'si' system [astropy.constants.constant]\n",
      "WARNING:astropy:Constant u'Solar mass' is already has a definition in the u'si' system\n",
      "WARNING: Constant u'Solar radius' is already has a definition in the u'si' system [astropy.constants.constant]\n",
      "WARNING:astropy:Constant u'Solar radius' is already has a definition in the u'si' system\n",
      "WARNING: Constant u'Solar luminosity' is already has a definition in the u'si' system [astropy.constants.constant]\n",
      "WARNING:astropy:Constant u'Solar luminosity' is already has a definition in the u'si' system\n"
     ]
    },
    {
     "name": "stdout",
     "output_type": "stream",
     "text": [
      "WARNING: developer mode enabled, to disable 'rm ~/.phoebe_devel_enabled' and restart phoebe or phoebe._devel_enabled=False to temporarily disable\n"
     ]
    },
    {
     "name": "stderr",
     "output_type": "stream",
     "text": [
      "/usr/local/lib/python2.7/dist-packages/astropy/units/quantity.py:732: FutureWarning: comparison to `None` will result in an elementwise object comparison in the future.\n",
      "  return super(Quantity, self).__eq__(other)\n"
     ]
    }
   ],
   "source": [
    "import phoebe\n",
    "from phoebe import u # units\n",
    "import numpy as np\n",
    "import matplotlib.pyplot as plt\n",
    "\n",
    "logger = phoebe.logger(clevel='INFO')\n",
    "\n",
    "b = phoebe.default_binary()"
   ]
  },
  {
   "cell_type": "markdown",
   "metadata": {
    "collapsed": true
   },
   "source": [
    "Relevant Parameters\n",
    "----------------------------\n",
    "\n",
    "COMING SOON: discussion"
   ]
  },
  {
   "cell_type": "code",
   "execution_count": 3,
   "metadata": {
    "collapsed": false,
    "scrolled": true
   },
   "outputs": [
    {
     "name": "stdout",
     "output_type": "stream",
     "text": [
      "Parameter: ecc@binary@component\n",
      "                       Qualifier: ecc\n",
      "                     Description: Eccentricity\n",
      "                           Value: 0.0\n",
      "                  Constrained by: \n",
      "                      Constrains: ecosw@binary@component, esinw@binary@component, pot@primary@component, pot@secondary@component\n",
      "                      Related to: per0@binary@component, ecosw@binary@component, esinw@binary@component, rpole@primary@component, q@binary@component, syncpar@primary@component, sma@binary@component, pot@primary@component, rpole@secondary@component, syncpar@secondary@component, pot@secondary@component\n",
      "\n"
     ]
    }
   ],
   "source": [
    "print b.get(qualifier='ecc')"
   ]
  },
  {
   "cell_type": "code",
   "execution_count": 4,
   "metadata": {
    "collapsed": false
   },
   "outputs": [
    {
     "name": "stdout",
     "output_type": "stream",
     "text": [
      "Parameter: ecosw@binary@component\n",
      "                       Qualifier: ecosw\n",
      "                     Description: Eccentricity times cos of argument of periastron\n",
      "                           Value: 0.0\n",
      "                  Constrained by: ecc@binary@component, per0@binary@component\n",
      "                      Constrains: None\n",
      "                      Related to: ecc@binary@component, per0@binary@component\n",
      "\n"
     ]
    }
   ],
   "source": [
    "print b.get(qualifier='ecosw', context='component')"
   ]
  },
  {
   "cell_type": "code",
   "execution_count": 5,
   "metadata": {
    "collapsed": false
   },
   "outputs": [
    {
     "name": "stdout",
     "output_type": "stream",
     "text": [
      "Parameter: esinw@binary@component\n",
      "                       Qualifier: esinw\n",
      "                     Description: Eccentricity times sin of argument of periastron\n",
      "                           Value: 0.0\n",
      "                  Constrained by: ecc@binary@component, per0@binary@component\n",
      "                      Constrains: None\n",
      "                      Related to: ecc@binary@component, per0@binary@component\n",
      "\n"
     ]
    }
   ],
   "source": [
    "print b.get(qualifier='esinw', context='component')"
   ]
  },
  {
   "cell_type": "markdown",
   "metadata": {},
   "source": [
    "Relevant Constraints\n",
    "-----------------------------\n",
    "\n",
    "COMING SOON: discussion"
   ]
  },
  {
   "cell_type": "code",
   "execution_count": 6,
   "metadata": {
    "collapsed": false,
    "scrolled": true
   },
   "outputs": [
    {
     "data": {
      "text/plain": [
       "<ParameterSet: 2 parameters | components: primary, secondary>"
      ]
     },
     "execution_count": 6,
     "metadata": {},
     "output_type": "execute_result"
    }
   ],
   "source": [
    "b.filter(qualifier='pot', context='constraint')"
   ]
  },
  {
   "cell_type": "code",
   "execution_count": 7,
   "metadata": {
    "collapsed": false
   },
   "outputs": [
    {
     "name": "stdout",
     "output_type": "stream",
     "text": [
      "Constrains (qualifier): pot\n",
      "Expression in SI (value): rocherpole2potential({rpole@primary@component}, {q@binary@component}, {ecc@binary@component}, {syncpar@primary@component}, {sma@binary@component}, 1)\n",
      "Current Result (result): 8.99227787671\n"
     ]
    }
   ],
   "source": [
    "print b.get(qualifier='pot', component='primary', context='constraint')"
   ]
  },
  {
   "cell_type": "code",
   "execution_count": 8,
   "metadata": {
    "collapsed": false
   },
   "outputs": [
    {
     "name": "stdout",
     "output_type": "stream",
     "text": [
      "Constrains (qualifier): ecosw\n",
      "Expression in SI (value): {ecc@binary@component} * (cos({per0@binary@component}))\n",
      "Current Result (result): 0.0\n"
     ]
    }
   ],
   "source": [
    "print b.get(qualifier='ecosw', context='constraint')"
   ]
  },
  {
   "cell_type": "code",
   "execution_count": 9,
   "metadata": {
    "collapsed": false
   },
   "outputs": [
    {
     "name": "stdout",
     "output_type": "stream",
     "text": [
      "Constrains (qualifier): esinw\n",
      "Expression in SI (value): {ecc@binary@component} * (sin({per0@binary@component}))\n",
      "Current Result (result): 0.0\n"
     ]
    }
   ],
   "source": [
    "print b.get(qualifier='esinw', context='constraint')"
   ]
  },
  {
   "cell_type": "markdown",
   "metadata": {},
   "source": [
    "Influence on Meshes (potentials, volumes)\n",
    "----------------------------\n",
    "\n",
    "COMING SOON: show how pot changes throughout the orbit for an eccentric orbit in order to conserve volume (and matches the defined value at periastron)"
   ]
  },
  {
   "cell_type": "code",
   "execution_count": 10,
   "metadata": {
    "collapsed": false
   },
   "outputs": [
    {
     "data": {
      "text/plain": [
       "<ParameterSet: 1 parameters>"
      ]
     },
     "execution_count": 10,
     "metadata": {},
     "output_type": "execute_result"
    }
   ],
   "source": [
    "b.add_dataset('mesh', times=np.linspace(0,3,11))"
   ]
  },
  {
   "cell_type": "code",
   "execution_count": 11,
   "metadata": {
    "collapsed": true
   },
   "outputs": [],
   "source": [
    "b.set_value('ecc', 0.2)"
   ]
  },
  {
   "cell_type": "code",
   "execution_count": 12,
   "metadata": {
    "collapsed": false
   },
   "outputs": [
    {
     "data": {
      "text/plain": [
       "<ParameterSet: 530 parameters | components: primary, secondary>"
      ]
     },
     "execution_count": 12,
     "metadata": {},
     "output_type": "execute_result"
    }
   ],
   "source": [
    "b.run_compute()"
   ]
  },
  {
   "cell_type": "code",
   "execution_count": 13,
   "metadata": {
    "collapsed": false
   },
   "outputs": [
    {
     "name": "stdout",
     "output_type": "stream",
     "text": [
      "ParameterSet: 11 parameters\n",
      "    0.0@pot@primary@latest@model: 8.94740049696\n",
      "    0.3@pot@primary@latest@model: 8.86251125921\n",
      "    0.6@pot@primary@latest@model: 8.82301430471\n",
      "    0.9@pot@primary@latest@model: 8.82301430471\n",
      "    1.2@pot@primary@latest@model: 8.86251125921\n",
      "    1.5@pot@primary@latest@model: 8.94740049696\n",
      "    1.8@pot@primary@latest@model: 9.07981336323\n",
      "    2.1@pot@primary@latest@model: 9.21194163936\n",
      "    2.4@pot@primary@latest@model: 9.21194163936\n",
      "    2.7@pot@primary@latest@model: 9.07981336323\n",
      "    3.0@pot@primary@latest@model: 8.94740049696\n"
     ]
    }
   ],
   "source": [
    "print b['pot@primary@model']"
   ]
  },
  {
   "cell_type": "code",
   "execution_count": 14,
   "metadata": {
    "collapsed": false
   },
   "outputs": [
    {
     "data": {
      "image/png": "[encoded data removed]",
      "text/plain": [
       "<matplotlib.figure.Figure at 0x7f68f88c8d50>"
      ]
     },
     "metadata": {},
     "output_type": "display_data"
    }
   ],
   "source": [
    "ax, artists = b['mesh01'].plot(x='times', y='pot')"
   ]
  },
  {
   "cell_type": "code",
   "execution_count": 15,
   "metadata": {
    "collapsed": false
   },
   "outputs": [
    {
     "name": "stdout",
     "output_type": "stream",
     "text": [
      "ParameterSet: 11 parameters\n",
      "  0.0@rpole@primary@latest@model: 1.03714291349 solRad\n",
      "  0.3@rpole@primary@latest@model: 1.04863563153 solRad\n",
      "  0.6@rpole@primary@latest@model: 1.05406965347 solRad\n",
      "  0.9@rpole@primary@latest@model: 1.05406965347 solRad\n",
      "  1.2@rpole@primary@latest@model: 1.04863563153 solRad\n",
      "  1.5@rpole@primary@latest@model: 1.03714291349 solRad\n",
      "  1.8@rpole@primary@latest@model: 1.01970785006 solRad\n",
      "  2.1@rpole@primary@latest@model: 1.00288176405 solRad\n",
      "  2.4@rpole@primary@latest@model: 1.00288176405 solRad\n",
      "  2.7@rpole@primary@latest@model: 1.01970785006 solRad\n",
      "  3.0@rpole@primary@latest@model: 1.03714291349 solRad\n"
     ]
    }
   ],
   "source": [
    "print b['rpole@primary@model']"
   ]
  },
  {
   "cell_type": "code",
   "execution_count": 16,
   "metadata": {
    "collapsed": false
   },
   "outputs": [
    {
     "data": {
      "image/png": "[encoded data removed]",
      "text/plain": [
       "<matplotlib.figure.Figure at 0x7f68f8a6bd90>"
      ]
     },
     "metadata": {},
     "output_type": "display_data"
    }
   ],
   "source": [
    "axs, artists = b['mesh01'].plot(x='times', y='rpole')"
   ]
  },
  {
   "cell_type": "code",
   "execution_count": 17,
   "metadata": {
    "collapsed": false
   },
   "outputs": [
    {
     "name": "stdout",
     "output_type": "stream",
     "text": [
      "ParameterSet: 11 parameters\n",
      "  0.0@volume@primary@latest@m...: 4.22927722712 solRad3\n",
      "  0.3@volume@primary@latest@m...: 4.22927722712 solRad3\n",
      "  0.6@volume@primary@latest@m...: 4.22927722712 solRad3\n",
      "  0.9@volume@primary@latest@m...: 4.22927722712 solRad3\n",
      "  1.2@volume@primary@latest@m...: 4.22927722712 solRad3\n",
      "  1.5@volume@primary@latest@m...: 4.22927722712 solRad3\n",
      "  1.8@volume@primary@latest@m...: 4.22927722712 solRad3\n",
      "  2.1@volume@primary@latest@m...: 4.22927722712 solRad3\n",
      "  2.4@volume@primary@latest@m...: 4.22927722712 solRad3\n",
      "  2.7@volume@primary@latest@m...: 4.22927722712 solRad3\n",
      "  3.0@volume@primary@latest@m...: 4.22927722712 solRad3\n"
     ]
    }
   ],
   "source": [
    "print b['volume@primary@model']"
   ]
  },
  {
   "cell_type": "code",
   "execution_count": 18,
   "metadata": {
    "collapsed": false
   },
   "outputs": [
    {
     "data": {
      "image/png": "[encoded data removed]",
      "text/plain": [
       "<matplotlib.figure.Figure at 0x7f68f89f3ad0>"
      ]
     },
     "metadata": {},
     "output_type": "display_data"
    }
   ],
   "source": [
    "ax, artists = b['mesh01'].plot(x='times', y='volume')"
   ]
  },
  {
   "cell_type": "code",
   "execution_count": 19,
   "metadata": {
    "collapsed": true
   },
   "outputs": [],
   "source": [
    "b.remove_dataset('mesh01')"
   ]
  },
  {
   "cell_type": "markdown",
   "metadata": {},
   "source": [
    "Influence on Radial Velocities\n",
    "----------------------------------\n",
    "\n",
    "COMING SOON: show RVs at various values of ecc"
   ]
  },
  {
   "cell_type": "code",
   "execution_count": 20,
   "metadata": {
    "collapsed": false
   },
   "outputs": [
    {
     "data": {
      "text/plain": [
       "<ParameterSet: 14 parameters | contexts: compute, dataset>"
      ]
     },
     "execution_count": 20,
     "metadata": {},
     "output_type": "execute_result"
    }
   ],
   "source": [
    "b.add_dataset('rv', times=np.linspace(0,3,51))"
   ]
  },
  {
   "cell_type": "code",
   "execution_count": 21,
   "metadata": {
    "collapsed": false
   },
   "outputs": [
    {
     "data": {
      "text/plain": [
       "<ParameterSet: 4 parameters | components: primary, secondary>"
      ]
     },
     "execution_count": 21,
     "metadata": {},
     "output_type": "execute_result"
    }
   ],
   "source": [
    "b.run_compute()"
   ]
  },
  {
   "cell_type": "code",
   "execution_count": 22,
   "metadata": {
    "collapsed": false
   },
   "outputs": [
    {
     "data": {
      "image/png": "[encoded data removed]",
      "text/plain": [
       "<matplotlib.figure.Figure at 0x7f68f88c8390>"
      ]
     },
     "metadata": {},
     "output_type": "display_data"
    }
   ],
   "source": [
    "axs, artists = b.plot()"
   ]
  },
  {
   "cell_type": "code",
   "execution_count": 23,
   "metadata": {
    "collapsed": true
   },
   "outputs": [],
   "source": [
    "b.remove_dataset('rv01')"
   ]
  },
  {
   "cell_type": "markdown",
   "metadata": {},
   "source": [
    "Influence on Light Curves (fluxes)\n",
    "-----------------------------------------\n",
    "\n",
    "COMING SOON: show LCs at various values of ecc, and discuss ecosw, esinw"
   ]
  },
  {
   "cell_type": "code",
   "execution_count": 24,
   "metadata": {
    "collapsed": false
   },
   "outputs": [
    {
     "data": {
      "text/plain": [
       "<ParameterSet: 14 parameters | contexts: compute, dataset>"
      ]
     },
     "execution_count": 24,
     "metadata": {},
     "output_type": "execute_result"
    }
   ],
   "source": [
    "b.add_dataset('lc', times=np.linspace(0,3,51))"
   ]
  },
  {
   "cell_type": "code",
   "execution_count": 25,
   "metadata": {
    "collapsed": false
   },
   "outputs": [
    {
     "data": {
      "text/plain": [
       "<ParameterSet: 2 parameters | qualifiers: fluxes, times>"
      ]
     },
     "execution_count": 25,
     "metadata": {},
     "output_type": "execute_result"
    }
   ],
   "source": [
    "b.run_compute()"
   ]
  },
  {
   "cell_type": "code",
   "execution_count": 26,
   "metadata": {
    "collapsed": false
   },
   "outputs": [
    {
     "data": {
      "image/png": "[encoded data removed]",
      "text/plain": [
       "<matplotlib.figure.Figure at 0x7f68f8508290>"
      ]
     },
     "metadata": {},
     "output_type": "display_data"
    }
   ],
   "source": [
    "axs, artists = b.plot()"
   ]
  }
 ],
 "metadata": {
  "kernelspec": {
   "display_name": "Python 2",
   "language": "python",
   "name": "python2"
  },
  "language_info": {
   "codemirror_mode": {
    "name": "ipython",
    "version": 2
   },
   "file_extension": ".py",
   "mimetype": "text/x-python",
   "name": "python",
   "nbconvert_exporter": "python",
   "pygments_lexer": "ipython2",
   "version": "2.7.12"
  }
 },
 "nbformat": 4,
 "nbformat_minor": 0
}
